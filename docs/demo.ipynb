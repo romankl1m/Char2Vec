{
 "cells": [
  {
   "cell_type": "code",
   "execution_count": 1,
   "metadata": {},
   "outputs": [],
   "source": [
    "import numpy as np\n",
    "import sys, os, re\n",
    "import tensorflow as tf\n",
    "\n",
    "ROOT_DIR = os.path.realpath('..')\n",
    "if ROOT_DIR not in sys.path:\n",
    "    sys.path.append(ROOT_DIR)\n",
    "\n",
    "from char2vec.utils import *\n",
    "from char2vec.embed import *\n"
   ]
  },
  {
   "cell_type": "markdown",
   "metadata": {},
   "source": [
    "## Show a few lines from the corpus:"
   ]
  },
  {
   "cell_type": "code",
   "execution_count": 2,
   "metadata": {},
   "outputs": [
    {
     "name": "stdout",
     "output_type": "stream",
     "text": [
      "Small corpus copied from Wikipedia page on Monty Python.\n",
      "https://en.wikipedia.org/wiki/Monty_Python\n",
      "\n",
      "BEGIN QUOTE\n",
      "\n",
      "Monty Python (also collectively known as the Pythons)[2][3] are a British surreal comedy group who created the sketch comedy television show Monty Python's Flying Circus, which first aired on the BBC in 1969. Forty-five episodes were made over four series. The Python phenomenon developed from the television series into something larger in scope and impact, including touring stage shows, films, numerous albums, several books, and musicals. The Pythons' influence on comedy has been compared to the Beatles' influence on music.[4][5][6] Regarded as enduring icons of 1970s pop culture, their sketch show has been referred to as being “an important moment in the evolution of television comedy\".[7]\n"
     ]
    }
   ],
   "source": [
    "corpus_path = os.path.join(ROOT_DIR, 'docs/small_corpus.txt') \n",
    "with open(corpus_path, 'r') as f:\n",
    "    for i in range(6):\n",
    "        sys.stdout.write(f.readline())"
   ]
  },
  {
   "cell_type": "markdown",
   "metadata": {},
   "source": [
    "## Create a model and train on the corpus:"
   ]
  },
  {
   "cell_type": "code",
   "execution_count": 3,
   "metadata": {},
   "outputs": [
    {
     "name": "stdout",
     "output_type": "stream",
     "text": [
      "Showing CONFIG\n",
      "  BATCH = 32\n",
      "  D = 10\n",
      "  GPU = False\n",
      "  SHUFF_BUFFER = 10000\n",
      "  TOTAL_STEPS = 30001\n",
      "  WINDOW_SIZES = [1, 2, 3]\n"
     ]
    }
   ],
   "source": [
    "CONFIG.show()"
   ]
  },
  {
   "cell_type": "code",
   "execution_count": 4,
   "metadata": {},
   "outputs": [
    {
     "name": "stdout",
     "output_type": "stream",
     "text": [
      "Alphabet: b'abcdefghijklmnopqrstuvwxyz1234567890,.()[]\"\\' -\\n'\n",
      "Unknown token rep: \"~\"\n"
     ]
    }
   ],
   "source": [
    "print('Alphabet:', ALPHABET.encode('utf-8'))\n",
    "print('Unknown token rep:', '\"~\"')"
   ]
  },
  {
   "cell_type": "code",
   "execution_count": 5,
   "metadata": {},
   "outputs": [],
   "source": [
    "m = Char2Vec(corpus_path, config=CONFIG, alphabet=ALPHABET, unk='~')"
   ]
  },
  {
   "cell_type": "code",
   "execution_count": 6,
   "metadata": {},
   "outputs": [
    {
     "name": "stdout",
     "output_type": "stream",
     "text": [
      "Training 30001 steps with batch size 32...\n",
      "Step       0:  loss=0.6934691667556763\n",
      "Step    3000:  loss=0.0849926769733429\n",
      "Step    6000:  loss=0.07934650033712387\n",
      "Step    9000:  loss=0.0826152041554451\n",
      "Step   12000:  loss=0.07706891745328903\n",
      "Step   15000:  loss=0.0785064548254013\n",
      "Step   18000:  loss=0.07765258103609085\n",
      "Step   21000:  loss=0.07670509815216064\n",
      "Step   24000:  loss=0.0773739293217659\n",
      "Step   27000:  loss=0.08010494709014893\n",
      "Step   30000:  loss=0.07977274805307388\n",
      "Training 501 steps with batch size 512...\n",
      "Step       0:  loss=0.07820867747068405\n",
      "Step     500:  loss=0.07689770311117172\n",
      "3min 4s ± 0 ns per loop (mean ± std. dev. of 1 run, 1 loop each)\n"
     ]
    }
   ],
   "source": [
    "# Simply call m.train() to run training:\n",
    "%timeit -n1 -r1 m.train()"
   ]
  },
  {
   "cell_type": "markdown",
   "metadata": {},
   "source": [
    "## Visualize the embeddings:\n",
    "The learned parameters can be accessed by `m.U_` and `m.W_`. Here `m.U_` is the embedding matrix, and `m.W_` is the matrix to recover context vector from embedded representations."
   ]
  },
  {
   "cell_type": "code",
   "execution_count": 7,
   "metadata": {},
   "outputs": [],
   "source": [
    "U = m.U_"
   ]
  },
  {
   "cell_type": "code",
   "execution_count": 8,
   "metadata": {},
   "outputs": [],
   "source": [
    "from sklearn.decomposition import PCA\n",
    "import matplotlib.pyplot as plt\n",
    "from sklearn.manifold import TSNE"
   ]
  },
  {
   "cell_type": "code",
   "execution_count": 9,
   "metadata": {},
   "outputs": [],
   "source": [
    "def scatter2d_with_annotation(arr, text, xcol=0, ycol=1, fontsize=7, show=False, adjust_text_boo=True, **kwargs):\n",
    "    assert len(arr)==len(text)\n",
    "    fig, ax = plt.subplots(**kwargs)\n",
    "    xarr = arr[:, xcol]\n",
    "    yarr = arr[:, ycol]\n",
    "    plt_texts = []\n",
    "    for i in range(len(text)):\n",
    "        plt.scatter(xarr[i], yarr[i])\n",
    "        plt_texts.append(plt.text(xarr[i], yarr[i], text[i], fontsize=fontsize))\n",
    "    if adjust_text_boo:\n",
    "        from adjustText import adjust_text\n",
    "        adjust_text(plt_texts, arrowprops=dict(arrowstyle=\"->\", color='grey', lw=0.5))\n",
    "    if show:\n",
    "        plt.show()\n",
    "    return fig, ax"
   ]
  },
  {
   "cell_type": "code",
   "execution_count": 10,
   "metadata": {},
   "outputs": [
    {
     "data": {
      "image/png": "[encoded data removed]",
      "text/plain": [
       "<Figure size 576x360 with 1 Axes>"
      ]
     },
     "metadata": {
      "needs_background": "light"
     },
     "output_type": "display_data"
    }
   ],
   "source": [
    "p = PCA()\n",
    "U2 = p.fit_transform(U)\n",
    "texts = m._tokenizer.alphabet + [m._tokenizer.unk]\n",
    "fig, ax = scatter2d_with_annotation(\n",
    "            U2, [s.upper() for s in texts],\n",
    "            0,1,\n",
    "            figsize=(8,5), fontsize=13)\n",
    "plt.title('PCA of Character embeddings, Dim-0 vs Dim-1')\n",
    "#plt.savefig('./PCA-0-1.png')\n",
    "plt.show()"
   ]
  },
  {
   "cell_type": "code",
   "execution_count": 11,
   "metadata": {
    "scrolled": false
   },
   "outputs": [
    {
     "data": {
      "image/png": "[encoded data removed]",
      "text/plain": [
       "<Figure size 576x360 with 1 Axes>"
      ]
     },
     "metadata": {
      "needs_background": "light"
     },
     "output_type": "display_data"
    }
   ],
   "source": [
    "from sklearn.manifold import TSNE\n",
    "U3 = TSNE(n_components=2, perplexity=5).fit_transform(U)\n",
    "fig, ax = scatter2d_with_annotation(\n",
    "            U3, [s.upper() for s in texts],\n",
    "            0,1,\n",
    "            figsize=(8,5), fontsize=13)\n",
    "plt.title('T-SNE of Character embeddings, Perplexity=5')\n",
    "#plt.savefig('./T-SNE_p5.png')\n",
    "plt.show()"
   ]
  },
  {
   "cell_type": "markdown",
   "metadata": {},
   "source": [
    "## Interactive training:\n",
    "(For custom training schedule)"
   ]
  },
  {
   "cell_type": "code",
   "execution_count": 12,
   "metadata": {},
   "outputs": [],
   "source": [
    "m = Char2Vec(corpus_path)\n",
    "m._create_graph()\n",
    "\n",
    "with m._graph.as_default():\n",
    "    sess = tf.InteractiveSession()\n",
    "    sess.run(tf.global_variables_initializer())    "
   ]
  },
  {
   "cell_type": "code",
   "execution_count": 13,
   "metadata": {},
   "outputs": [
    {
     "name": "stdout",
     "output_type": "stream",
     "text": [
      "Training 20001 steps with batch size 8...\n",
      "Step       0:  loss=0.6927655935287476\n",
      "Step    4000:  loss=0.08189480006694794\n",
      "Step    8000:  loss=0.08063329756259918\n",
      "Step   12000:  loss=0.07972197979688644\n",
      "Step   16000:  loss=0.07762684673070908\n",
      "Step   20000:  loss=0.07243742793798447\n"
     ]
    }
   ],
   "source": [
    "m._train(sess, n_steps=20001, batch_size=8, print_every=4000)"
   ]
  },
  {
   "cell_type": "code",
   "execution_count": 14,
   "metadata": {},
   "outputs": [
    {
     "name": "stdout",
     "output_type": "stream",
     "text": [
      "Training 501 steps with batch size 64...\n",
      "Step       0:  loss=0.07782260328531265\n",
      "Step     500:  loss=0.0790477842092514\n"
     ]
    }
   ],
   "source": [
    "m._train(sess, n_steps=501, batch_size=64, print_every=500)"
   ]
  },
  {
   "cell_type": "code",
   "execution_count": 15,
   "metadata": {},
   "outputs": [
    {
     "name": "stdout",
     "output_type": "stream",
     "text": [
      "Training 501 steps with batch size 512...\n",
      "Step       0:  loss=0.07860081642866135\n",
      "Step     500:  loss=0.07878997921943665\n"
     ]
    }
   ],
   "source": [
    "m._train(sess, n_steps=501, batch_size=512, print_every=500)"
   ]
  },
  {
   "cell_type": "code",
   "execution_count": 16,
   "metadata": {},
   "outputs": [],
   "source": [
    "sess.close()"
   ]
  }
 ],
 "metadata": {
  "kernelspec": {
   "display_name": "Python 3",
   "language": "python",
   "name": "python3"
  },
  "language_info": {
   "codemirror_mode": {
    "name": "ipython",
    "version": 3
   },
   "file_extension": ".py",
   "mimetype": "text/x-python",
   "name": "python",
   "nbconvert_exporter": "python",
   "pygments_lexer": "ipython3",
   "version": "3.6.8"
  }
 },
 "nbformat": 4,
 "nbformat_minor": 2
}
